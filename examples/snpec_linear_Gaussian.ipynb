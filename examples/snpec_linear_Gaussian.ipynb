version https://git-lfs.github.com/spec/v1
oid sha256:ca6dd32a4acc19b964513af556cc8e98bbf59a99f7ce2d49896b7ad8c11e1a8d
size 36900
